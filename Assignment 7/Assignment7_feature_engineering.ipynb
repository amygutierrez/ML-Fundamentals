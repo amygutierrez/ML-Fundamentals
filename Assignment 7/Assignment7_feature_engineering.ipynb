{
 "cells": [
  {
   "cell_type": "code",
   "execution_count": 1,
   "metadata": {},
   "outputs": [],
   "source": [
    "import pandas as pd\n",
    "import numpy as np\n",
    "import matplotlib.pyplot as plt\n",
    "from sklearn import preprocessing\n",
    "from sklearn import metrics \n",
    "import math\n",
    "\n",
    "# Random Forest\n",
    "from sklearn.model_selection import train_test_split\n",
    "from sklearn.ensemble import RandomForestRegressor\n",
    "from sklearn.inspection import permutation_importance\n",
    "from sklearn.ensemble import RandomForestClassifier\n",
    "from sklearn.ensemble import GradientBoostingClassifier\n",
    "from sklearn.linear_model import LogisticRegression\n",
    "import shap\n"
   ]
  },
  {
   "cell_type": "code",
   "execution_count": 2,
   "metadata": {},
   "outputs": [],
   "source": [
    "#Importing Data\n",
    "\n",
    "data = pd.read_csv(r'application_train.csv')\n",
    "df = pd.DataFrame(data)"
   ]
  },
  {
   "cell_type": "code",
   "execution_count": 3,
   "metadata": {},
   "outputs": [],
   "source": [
    "## I know that there are many variables with many NaNs. Will look at the variables to see if  there is a large imbalance in \n",
    "## in variables with NaNs."
   ]
  },
  {
   "cell_type": "code",
   "execution_count": 4,
   "metadata": {},
   "outputs": [
    {
     "name": "stdout",
     "output_type": "stream",
     "text": [
      "SK_ID_CURR 0\n",
      "TARGET 0\n",
      "NAME_CONTRACT_TYPE 0\n",
      "CODE_GENDER 0\n",
      "FLAG_OWN_CAR 0\n",
      "FLAG_OWN_REALTY 0\n",
      "CNT_CHILDREN 0\n",
      "AMT_INCOME_TOTAL 0\n",
      "AMT_CREDIT 0\n",
      "AMT_ANNUITY 12\n",
      "AMT_GOODS_PRICE 278\n",
      "NAME_TYPE_SUITE 1292\n",
      "NAME_INCOME_TYPE 0\n",
      "NAME_EDUCATION_TYPE 0\n",
      "NAME_FAMILY_STATUS 0\n",
      "NAME_HOUSING_TYPE 0\n",
      "REGION_POPULATION_RELATIVE 0\n",
      "DAYS_BIRTH 0\n",
      "DAYS_EMPLOYED 0\n",
      "DAYS_REGISTRATION 0\n",
      "DAYS_ID_PUBLISH 0\n",
      "OWN_CAR_AGE 202929\n",
      "FLAG_MOBIL 0\n",
      "FLAG_EMP_PHONE 0\n",
      "FLAG_WORK_PHONE 0\n",
      "FLAG_CONT_MOBILE 0\n",
      "FLAG_PHONE 0\n",
      "FLAG_EMAIL 0\n",
      "OCCUPATION_TYPE 96391\n",
      "CNT_FAM_MEMBERS 2\n",
      "REGION_RATING_CLIENT 0\n",
      "REGION_RATING_CLIENT_W_CITY 0\n",
      "WEEKDAY_APPR_PROCESS_START 0\n",
      "HOUR_APPR_PROCESS_START 0\n",
      "REG_REGION_NOT_LIVE_REGION 0\n",
      "REG_REGION_NOT_WORK_REGION 0\n",
      "LIVE_REGION_NOT_WORK_REGION 0\n",
      "REG_CITY_NOT_LIVE_CITY 0\n",
      "REG_CITY_NOT_WORK_CITY 0\n",
      "LIVE_CITY_NOT_WORK_CITY 0\n",
      "ORGANIZATION_TYPE 0\n",
      "EXT_SOURCE_1 173378\n",
      "EXT_SOURCE_2 660\n",
      "EXT_SOURCE_3 60965\n",
      "APARTMENTS_AVG 156061\n",
      "BASEMENTAREA_AVG 179943\n",
      "YEARS_BEGINEXPLUATATION_AVG 150007\n",
      "YEARS_BUILD_AVG 204488\n",
      "COMMONAREA_AVG 214865\n",
      "ELEVATORS_AVG 163891\n",
      "ENTRANCES_AVG 154828\n",
      "FLOORSMAX_AVG 153020\n",
      "FLOORSMIN_AVG 208642\n",
      "LANDAREA_AVG 182590\n",
      "LIVINGAPARTMENTS_AVG 210199\n",
      "LIVINGAREA_AVG 154350\n",
      "NONLIVINGAPARTMENTS_AVG 213514\n",
      "NONLIVINGAREA_AVG 169682\n",
      "APARTMENTS_MODE 156061\n",
      "BASEMENTAREA_MODE 179943\n",
      "YEARS_BEGINEXPLUATATION_MODE 150007\n",
      "YEARS_BUILD_MODE 204488\n",
      "COMMONAREA_MODE 214865\n",
      "ELEVATORS_MODE 163891\n",
      "ENTRANCES_MODE 154828\n",
      "FLOORSMAX_MODE 153020\n",
      "FLOORSMIN_MODE 208642\n",
      "LANDAREA_MODE 182590\n",
      "LIVINGAPARTMENTS_MODE 210199\n",
      "LIVINGAREA_MODE 154350\n",
      "NONLIVINGAPARTMENTS_MODE 213514\n",
      "NONLIVINGAREA_MODE 169682\n",
      "APARTMENTS_MEDI 156061\n",
      "BASEMENTAREA_MEDI 179943\n",
      "YEARS_BEGINEXPLUATATION_MEDI 150007\n",
      "YEARS_BUILD_MEDI 204488\n",
      "COMMONAREA_MEDI 214865\n",
      "ELEVATORS_MEDI 163891\n",
      "ENTRANCES_MEDI 154828\n",
      "FLOORSMAX_MEDI 153020\n",
      "FLOORSMIN_MEDI 208642\n",
      "LANDAREA_MEDI 182590\n",
      "LIVINGAPARTMENTS_MEDI 210199\n",
      "LIVINGAREA_MEDI 154350\n",
      "NONLIVINGAPARTMENTS_MEDI 213514\n",
      "NONLIVINGAREA_MEDI 169682\n",
      "FONDKAPREMONT_MODE 210295\n",
      "HOUSETYPE_MODE 154297\n",
      "TOTALAREA_MODE 148431\n",
      "WALLSMATERIAL_MODE 156341\n",
      "EMERGENCYSTATE_MODE 145755\n",
      "OBS_30_CNT_SOCIAL_CIRCLE 1021\n",
      "DEF_30_CNT_SOCIAL_CIRCLE 1021\n",
      "OBS_60_CNT_SOCIAL_CIRCLE 1021\n",
      "DEF_60_CNT_SOCIAL_CIRCLE 1021\n",
      "DAYS_LAST_PHONE_CHANGE 1\n",
      "FLAG_DOCUMENT_2 0\n",
      "FLAG_DOCUMENT_3 0\n",
      "FLAG_DOCUMENT_4 0\n",
      "FLAG_DOCUMENT_5 0\n",
      "FLAG_DOCUMENT_6 0\n",
      "FLAG_DOCUMENT_7 0\n",
      "FLAG_DOCUMENT_8 0\n",
      "FLAG_DOCUMENT_9 0\n",
      "FLAG_DOCUMENT_10 0\n",
      "FLAG_DOCUMENT_11 0\n",
      "FLAG_DOCUMENT_12 0\n",
      "FLAG_DOCUMENT_13 0\n",
      "FLAG_DOCUMENT_14 0\n",
      "FLAG_DOCUMENT_15 0\n",
      "FLAG_DOCUMENT_16 0\n",
      "FLAG_DOCUMENT_17 0\n",
      "FLAG_DOCUMENT_18 0\n",
      "FLAG_DOCUMENT_19 0\n",
      "FLAG_DOCUMENT_20 0\n",
      "FLAG_DOCUMENT_21 0\n",
      "AMT_REQ_CREDIT_BUREAU_HOUR 41519\n",
      "AMT_REQ_CREDIT_BUREAU_DAY 41519\n",
      "AMT_REQ_CREDIT_BUREAU_WEEK 41519\n",
      "AMT_REQ_CREDIT_BUREAU_MON 41519\n",
      "AMT_REQ_CREDIT_BUREAU_QRT 41519\n",
      "AMT_REQ_CREDIT_BUREAU_YEAR 41519\n"
     ]
    }
   ],
   "source": [
    "#Looking to see which coolumn has most NaNs\n",
    "nulls = df.isnull().sum().to_frame()\n",
    "for index, row in nulls.iterrows():\n",
    "    print(index, row[0])"
   ]
  },
  {
   "cell_type": "code",
   "execution_count": 5,
   "metadata": {},
   "outputs": [
    {
     "data": {
      "text/plain": [
       "(307511, 64)"
      ]
     },
     "execution_count": 5,
     "metadata": {},
     "output_type": "execute_result"
    }
   ],
   "source": [
    "# deleting colums with most NaNs. All these colums have more than 10K NaNs. Some have more than 20K.\n",
    "NaNs = ['EXT_SOURCE_1','EXT_SOURCE_2','EXT_SOURCE_3','APARTMENTS_AVG','BASEMENTAREA_AVG','YEARS_BEGINEXPLUATATION_AVG',\n",
    "'YEARS_BUILD_AVG','COMMONAREA_AVG','ELEVATORS_AVG','ENTRANCES_AVG','FLOORSMAX_AVG','FLOORSMIN_AVG','LANDAREA_AVG',\n",
    "'LIVINGAPARTMENTS_AVG','LIVINGAREA_AVG','NONLIVINGAPARTMENTS_AVG','NONLIVINGAREA_AVG','APARTMENTS_MODE','BASEMENTAREA_MODE',\n",
    "'YEARS_BEGINEXPLUATATION_MODE','YEARS_BUILD_MODE','COMMONAREA_MODE','ELEVATORS_MODE','ENTRANCES_MODE','FLOORSMAX_MODE',\n",
    "'FLOORSMIN_MODE','LANDAREA_MODE','LIVINGAPARTMENTS_MODE','LIVINGAREA_MODE','NONLIVINGAPARTMENTS_MODE','NONLIVINGAREA_MODE',\n",
    "'APARTMENTS_MEDI','BASEMENTAREA_MEDI','YEARS_BEGINEXPLUATATION_MEDI','YEARS_BUILD_MEDI','COMMONAREA_MEDI','ELEVATORS_MEDI',\n",
    "'ENTRANCES_MEDI','FLOORSMAX_MEDI','FLOORSMIN_MEDI','LANDAREA_MEDI','LIVINGAPARTMENTS_MEDI','LIVINGAREA_MEDI',\n",
    "'NONLIVINGAPARTMENTS_MEDI','NONLIVINGAREA_MEDI','FONDKAPREMONT_MODE','HOUSETYPE_MODE','TOTALAREA_MODE','WALLSMATERIAL_MODE',\n",
    "'EMERGENCYSTATE_MODE','AMT_REQ_CREDIT_BUREAU_HOUR','AMT_REQ_CREDIT_BUREAU_DAY','AMT_REQ_CREDIT_BUREAU_WEEK',\n",
    "'AMT_REQ_CREDIT_BUREAU_MON','AMT_REQ_CREDIT_BUREAU_QRT','AMT_REQ_CREDIT_BUREAU_YEAR']\n",
    "\n",
    "\n",
    "X = df.drop(['TARGET','SK_ID_CURR'], axis=1)\n",
    "X = X.drop(NaNs, axis = 1)\n",
    "  \n",
    "Y = df['TARGET']\n",
    "\n",
    "le = preprocessing.LabelEncoder()\n",
    "le.fit(X['NAME_CONTRACT_TYPE'])\n",
    "X['NAME_CONTRACT_TYPE'] = le.transform(X['NAME_CONTRACT_TYPE'])\n",
    "\n",
    "le.fit(X['CODE_GENDER'])\n",
    "X['CODE_GENDER'] = le.transform(X['CODE_GENDER'])\n",
    "\n",
    "le.fit(X['FLAG_OWN_CAR'])\n",
    "X['FLAG_OWN_CAR'] = le.transform(X['FLAG_OWN_CAR'])\n",
    "\n",
    "le.fit(X['FLAG_OWN_REALTY'])\n",
    "X['FLAG_OWN_REALTY'] = le.transform(X['FLAG_OWN_REALTY'])\n",
    "\n",
    "le.fit(X['NAME_TYPE_SUITE'].astype(str))\n",
    "X['NAME_TYPE_SUITE'] = le.transform(X['NAME_TYPE_SUITE'].astype(str))\n",
    "\n",
    "le.fit(X['NAME_INCOME_TYPE'])\n",
    "X['NAME_INCOME_TYPE'] = le.transform(X['NAME_INCOME_TYPE'])\n",
    "\n",
    "le.fit(X['NAME_EDUCATION_TYPE'])\n",
    "X['NAME_EDUCATION_TYPE'] = le.transform(X['NAME_EDUCATION_TYPE'])\n",
    "\n",
    "le.fit(X['NAME_FAMILY_STATUS'])\n",
    "X['NAME_FAMILY_STATUS'] = le.transform(X['NAME_FAMILY_STATUS'])\n",
    "\n",
    "le.fit(X['NAME_HOUSING_TYPE'].astype(str))\n",
    "X['NAME_HOUSING_TYPE'] = le.transform(X['NAME_HOUSING_TYPE'].astype(str))\n",
    "\n",
    "le.fit(X['OCCUPATION_TYPE'].astype(str))\n",
    "X['OCCUPATION_TYPE'] = le.transform(X['OCCUPATION_TYPE'].astype(str))\n",
    "                                      \n",
    "le.fit(X['WEEKDAY_APPR_PROCESS_START'])\n",
    "X['WEEKDAY_APPR_PROCESS_START'] = le.transform(X['WEEKDAY_APPR_PROCESS_START'])\n",
    "                                                                           \n",
    "le.fit(X['ORGANIZATION_TYPE'])\n",
    "X['ORGANIZATION_TYPE'] = le.transform(X['ORGANIZATION_TYPE'])\n",
    "\n",
    "\n",
    "\n",
    "#Any NaNs that are left, are less than 1K per feature. Therefore, replacing these NaNs with means of that column\n",
    "\n",
    "X.fillna(X.mean(), inplace=True)\n",
    "X = X.fillna(X.mean())\n",
    "\n",
    "X.shape"
   ]
  },
  {
   "cell_type": "code",
   "execution_count": 6,
   "metadata": {},
   "outputs": [
    {
     "data": {
      "text/plain": [
       "RandomForestRegressor(bootstrap=True, ccp_alpha=0.0, criterion='mse',\n",
       "                      max_depth=None, max_features='auto', max_leaf_nodes=None,\n",
       "                      max_samples=None, min_impurity_decrease=0.0,\n",
       "                      min_impurity_split=None, min_samples_leaf=1,\n",
       "                      min_samples_split=2, min_weight_fraction_leaf=0.0,\n",
       "                      n_estimators=65, n_jobs=None, oob_score=False,\n",
       "                      random_state=None, verbose=0, warm_start=False)"
      ]
     },
     "execution_count": 6,
     "metadata": {},
     "output_type": "execute_result"
    }
   ],
   "source": [
    "X_train, X_test, y_train, y_test = train_test_split(X, Y, test_size=0.25, random_state=100)\n",
    "\n",
    "rf = RandomForestRegressor(n_estimators=65)\n",
    "rf.fit(X_train, y_train)"
   ]
  },
  {
   "cell_type": "code",
   "execution_count": 7,
   "metadata": {},
   "outputs": [
    {
     "data": {
      "text/plain": [
       "array([2.00827431e-03, 5.03437317e-03, 4.18259664e-03, 6.80800844e-03,\n",
       "       8.60486423e-03, 5.09720616e-02, 4.92501852e-02, 6.62051184e-02,\n",
       "       3.67580229e-02, 1.16210965e-02, 8.73372555e-03, 1.05193751e-02,\n",
       "       1.65794047e-02, 1.05699856e-02, 4.92137990e-02, 8.17122367e-02,\n",
       "       6.95004711e-02, 8.04679826e-02, 7.80708440e-02, 2.64496290e-02,\n",
       "       0.00000000e+00, 6.99193164e-04, 6.79245309e-03, 6.30103430e-04,\n",
       "       6.33385668e-03, 4.49708544e-03, 2.61157385e-02, 1.28837019e-02,\n",
       "       5.11591440e-03, 5.55471310e-03, 2.60574808e-02, 4.28478492e-02,\n",
       "       1.88795864e-03, 2.18120376e-03, 2.35818983e-03, 5.52368491e-03,\n",
       "       4.96305526e-03, 5.15759594e-03, 3.51984796e-02, 1.57990830e-02,\n",
       "       8.05890416e-03, 1.61504903e-02, 7.33298953e-03, 6.80171638e-02,\n",
       "       6.44025602e-05, 4.34040744e-03, 6.73840364e-07, 2.39304137e-03,\n",
       "       2.29659854e-03, 8.74800781e-05, 2.33074874e-03, 8.28429076e-04,\n",
       "       0.00000000e+00, 4.73506790e-04, 0.00000000e+00, 2.76055084e-04,\n",
       "       2.78781668e-04, 1.46093267e-04, 1.10407904e-03, 8.57149198e-05,\n",
       "       1.17635680e-03, 1.39457938e-04, 2.97340177e-04, 2.61889628e-04])"
      ]
     },
     "execution_count": 7,
     "metadata": {},
     "output_type": "execute_result"
    }
   ],
   "source": [
    "rf.feature_importances_"
   ]
  },
  {
   "cell_type": "code",
   "execution_count": 8,
   "metadata": {},
   "outputs": [
    {
     "data": {
      "text/plain": [
       "Text(0.5, 0, 'Random Forest Feature Importance')"
      ]
     },
     "execution_count": 8,
     "metadata": {},
     "output_type": "execute_result"
    },
    {
     "data": {
      "image/png": "[encoded data removed]",
      "text/plain": [
       "<Figure size 360x1440 with 1 Axes>"
      ]
     },
     "metadata": {
      "needs_background": "light"
     },
     "output_type": "display_data"
    }
   ],
   "source": [
    "sorted_idx = rf.feature_importances_.argsort()\n",
    "plt.figure(figsize = (5,20))\n",
    "plt.barh(X.columns[sorted_idx], rf.feature_importances_[sorted_idx])\n",
    "plt.xlabel(\"Random Forest Feature Importance\")"
   ]
  },
  {
   "cell_type": "code",
   "execution_count": 9,
   "metadata": {},
   "outputs": [],
   "source": [
    "# Will be using up until variable FLAG_DOCUMENT_16 because after that the variables are not visible anymore.\n",
    "# Will be testing the accuracy of the different variables. "
   ]
  },
  {
   "cell_type": "code",
   "execution_count": null,
   "metadata": {},
   "outputs": [],
   "source": []
  },
  {
   "cell_type": "code",
   "execution_count": 10,
   "metadata": {},
   "outputs": [],
   "source": [
    "feature_importance =['DAYS_BIRTH','DAYS_REGISTRATION','DAYS_ID_PUBLISH','DAYS_EMPLOYED','DAYS_LAST_PHONE_CHANGE',\n",
    "                'AMT_ANNUITY','AMT_INCOME_TOTAL','REGION_POPULATION_RELATIVE','AMT_CREDIT','HOUR_APPR_PROCESS_START',\n",
    "                'AMT_GOODS_PRICE','ORGANIZATION_TYPE','OWN_CAR_AGE','WEEKDAY_APPR_PROCESS_START','OCCUPATION_TYPE',\n",
    "                'NAME_FAMILY_STATUS','OBS_30_CNT_SOCIAL_CIRCLE','OBS_60_CNT_SOCIAL_CIRCLE','CNT_FAM_MEMBERS',\n",
    "                'NAME_TYPE_SUITE','NAME_HOUSING_TYPE','NAME_EDUCATION_TYPE','NAME_INCOME_TYPE','CNT_CHILDREN',\n",
    "                'DEF_30_CNT_SOCIAL_CIRCLE','FLAG_OWN_REALTY','DEF_60_CNT_SOCIAL_CIRCLE','FLAG_WORK_PHONE',\n",
    "                'FLAG_PHONE','REGION_RATING_CLIENT_W_CITY','REG_CITY_NOT_LIVE_CITY','REGION_RATING_CLIENT','CODE_GENDER',\n",
    "                'REG_CITY_NOT_WORK_CITY','LIVE_CITY_NOT_WORK_CITY','FLAG_EMAIL','FLAG_DOCUMENT_3','FLAG_OWN_CAR',\n",
    "                'FLAG_DOCUMENT_8','LIVE_REGION_NOT_WORK_REGION','FLAG_DOCUMENT_5','FLAG_DOCUMENT_6','NAME_CONTRACT_TYPE',\n",
    "                'REG_REGION_NOT_WORK_REGION','REG_REGION_NOT_LIVE_REGION','FLAG_DOCUMENT_18','FLAG_DOCUMENT_16'] \n",
    "\n"
   ]
  },
  {
   "cell_type": "code",
   "execution_count": 11,
   "metadata": {},
   "outputs": [
    {
     "data": {
      "text/plain": [
       "(307511, 47)"
      ]
     },
     "execution_count": 11,
     "metadata": {},
     "output_type": "execute_result"
    }
   ],
   "source": [
    "X = X[feature_importance]\n",
    "Y = df.TARGET\n",
    "X.shape"
   ]
  },
  {
   "cell_type": "code",
   "execution_count": 12,
   "metadata": {},
   "outputs": [],
   "source": [
    "X_train, X_test, y_train, y_test = train_test_split(X, Y, test_size=0.25, random_state=500)"
   ]
  },
  {
   "cell_type": "code",
   "execution_count": 13,
   "metadata": {},
   "outputs": [
    {
     "name": "stdout",
     "output_type": "stream",
     "text": [
      "Number of features:  10\n",
      "Accuracy score (training):  0.9838227833831238\n",
      "Accuracy score (test):  0.9194698093082546\n",
      "Number of features:  15\n",
      "Accuracy score (training):  0.9841219599970515\n",
      "Accuracy score (test):  0.9195738702879888\n",
      "Number of features:  20\n",
      "Accuracy score (training):  0.98397020374361\n",
      "Accuracy score (test):  0.9194047711959208\n",
      "Number of features:  25\n",
      "Accuracy score (training):  0.9840872728534078\n",
      "Accuracy score (test):  0.9193527407060538\n",
      "Number of features:  30\n",
      "Accuracy score (training):  0.9843647700025582\n",
      "Accuracy score (test):  0.9194698093082546\n",
      "Number of features:  35\n",
      "Accuracy score (training):  0.9842477008927604\n",
      "Accuracy score (test):  0.9195998855329223\n",
      "Number of features:  40\n",
      "Accuracy score (training):  0.9841566471406954\n",
      "Accuracy score (test):  0.9197039465126564\n",
      "Number of features:  47\n",
      "Accuracy score (training):  0.9843300828589143\n",
      "Accuracy score (test):  0.919560862665522\n"
     ]
    }
   ],
   "source": [
    "# Training with Random Forest\n",
    "\n",
    "ind = [10, 15, 20, 25, 30, 35, 40, 47]\n",
    "\n",
    "for i in ind:\n",
    "    model = RandomForestClassifier(n_estimators = 10, random_state = 10)\n",
    "    model = model.fit(X_train.iloc[:,:i],y_train)\n",
    "    train_score = model.score(X_train.iloc[:,:i], y_train)\n",
    "    test_score = model.score(X_test.iloc[:,:i], y_test)\n",
    "\n",
    "    print(\"Number of features: \", i)\n",
    "    print(\"Accuracy score (training): \", train_score)\n",
    "    print(\"Accuracy score (test): \", test_score)"
   ]
  },
  {
   "cell_type": "code",
   "execution_count": 14,
   "metadata": {},
   "outputs": [
    {
     "name": "stdout",
     "output_type": "stream",
     "text": [
      "Accuracy score (training):  1.0\n",
      "Accuracy score (test):  0.9202502666562605\n"
     ]
    }
   ],
   "source": [
    "model = RandomForestClassifier(n_estimators = 500, random_state = 500)\n",
    "model = model.fit(X_train.iloc[:,:40],y_train)\n",
    "train_score = model.score(X_train.iloc[:,:40], y_train)\n",
    "test_score = model.score(X_test.iloc[:,:40], y_test)\n",
    "print(\"Accuracy score (training): \", train_score)\n",
    "print(\"Accuracy score (test): \", test_score)"
   ]
  },
  {
   "cell_type": "code",
   "execution_count": 15,
   "metadata": {},
   "outputs": [
    {
     "data": {
      "text/plain": [
       "Text(0.5, 1.0, 'Random Forect ROC Curve')"
      ]
     },
     "execution_count": 15,
     "metadata": {},
     "output_type": "execute_result"
    },
    {
     "data": {
      "image/png": "[encoded data removed]",
      "text/plain": [
       "<Figure size 432x288 with 1 Axes>"
      ]
     },
     "metadata": {
      "needs_background": "light"
     },
     "output_type": "display_data"
    }
   ],
   "source": [
    "metrics.plot_roc_curve(model,X_test.iloc[:,:40],y_test)\n",
    "plt.title(\"Random Forect ROC Curve\")"
   ]
  },
  {
   "cell_type": "code",
   "execution_count": 16,
   "metadata": {},
   "outputs": [],
   "source": [
    "#### Now, Training with GBT ###"
   ]
  },
  {
   "cell_type": "code",
   "execution_count": 17,
   "metadata": {},
   "outputs": [],
   "source": [
    "X_train, X_test, y_train, y_test = train_test_split(X, Y, test_size=0.2, random_state=500)"
   ]
  },
  {
   "cell_type": "code",
   "execution_count": 18,
   "metadata": {},
   "outputs": [
    {
     "name": "stdout",
     "output_type": "stream",
     "text": [
      "Number of features:  10\n",
      "Accuracy score (training):  0.9189782446099314\n",
      "Accuracy score (test):  0.9204429052241354\n",
      "Number of features:  15\n",
      "Accuracy score (training):  0.9189782446099314\n",
      "Accuracy score (test):  0.9204429052241354\n",
      "Number of features:  20\n",
      "Accuracy score (training):  0.9189782446099314\n",
      "Accuracy score (test):  0.9204429052241354\n",
      "Number of features:  25\n",
      "Accuracy score (training):  0.9189782446099314\n",
      "Accuracy score (test):  0.9204429052241354\n",
      "Number of features:  30\n",
      "Accuracy score (training):  0.9189782446099314\n",
      "Accuracy score (test):  0.9204429052241354\n",
      "Number of features:  35\n",
      "Accuracy score (training):  0.9189782446099314\n",
      "Accuracy score (test):  0.9204429052241354\n",
      "Number of features:  40\n",
      "Accuracy score (training):  0.9189782446099314\n",
      "Accuracy score (test):  0.9204429052241354\n",
      "Number of features:  47\n",
      "Accuracy score (training):  0.9189782446099314\n",
      "Accuracy score (test):  0.9204429052241354\n"
     ]
    }
   ],
   "source": [
    "# Training with GBT\n",
    "\n",
    "ind = [10, 15, 20, 25, 30, 35, 40, 47]\n",
    "\n",
    "for i in ind:\n",
    "    model_gb = GradientBoostingClassifier(n_estimators=10, learning_rate=0.1, random_state=10)\n",
    "    model_gb.fit(X_train.iloc[:,:i], y_train)\n",
    "    train_score = model_gb.score(X_train.iloc[:,:i], y_train)\n",
    "    test_score = model_gb.score(X_test.iloc[:,:i], y_test)\n",
    "\n",
    "    print(\"Number of features: \", i)\n",
    "    print(\"Accuracy score (training): \", train_score)\n",
    "    print(\"Accuracy score (test): \", test_score)"
   ]
  },
  {
   "cell_type": "code",
   "execution_count": 19,
   "metadata": {},
   "outputs": [
    {
     "name": "stdout",
     "output_type": "stream",
     "text": [
      "Learning rate:  1e-05\n",
      "Accuracy score (training):  0.9189782446099314\n",
      "Accuracy score (test):  0.9204429052241354\n",
      "Learning rate:  0.01\n",
      "Accuracy score (training):  0.9189782446099314\n",
      "Accuracy score (test):  0.9204429052241354\n",
      "Learning rate:  0.01\n",
      "Accuracy score (training):  0.9189782446099314\n",
      "Accuracy score (test):  0.9204429052241354\n",
      "Learning rate:  0.05\n",
      "Accuracy score (training):  0.9189782446099314\n",
      "Accuracy score (test):  0.9204429052241354\n",
      "Learning rate:  0.075\n",
      "Accuracy score (training):  0.9189782446099314\n",
      "Accuracy score (test):  0.9204429052241354\n",
      "Learning rate:  0.1\n",
      "Accuracy score (training):  0.9189782446099314\n",
      "Accuracy score (test):  0.9204429052241354\n",
      "Learning rate:  0.25\n",
      "Accuracy score (training):  0.9189823095183897\n",
      "Accuracy score (test):  0.9204429052241354\n",
      "Learning rate:  0.5\n",
      "Accuracy score (training):  0.9189945042437644\n",
      "Accuracy score (test):  0.9204266458546737\n",
      "Learning rate:  0.75\n",
      "Accuracy score (training):  0.9190066989691392\n",
      "Accuracy score (test):  0.9203941271157504\n",
      "Learning rate:  1\n",
      "Accuracy score (training):  0.9189985691522227\n",
      "Accuracy score (test):  0.9203290896379038\n",
      "Learning rate:  1.1\n",
      "Accuracy score (training):  0.9189579200676401\n",
      "Accuracy score (test):  0.9201502365738257\n",
      "Learning rate:  1.5\n",
      "Accuracy score (training):  0.9188359728138922\n",
      "Accuracy score (test):  0.9197762710762076\n",
      "Learning rate:  2\n",
      "Accuracy score (training):  0.9189823095183897\n",
      "Accuracy score (test):  0.9204266458546737\n",
      "Learning rate:  2.5\n",
      "Accuracy score (training):  0.48961009398068356\n",
      "Accuracy score (test):  0.4882526055639562\n",
      "Learning rate:  10\n",
      "Accuracy score (training):  0.19515625508113557\n",
      "Accuracy score (test):  0.19800660130400144\n"
     ]
    }
   ],
   "source": [
    "lr_list = [10e-6, 10e-3, 0.01, 0.05, 0.075, 0.1, 0.25, 0.5, 0.75, 1, 1.10, 1.5, 2, 2.5, 10]\n",
    "\n",
    "for learning_rate in lr_list:\n",
    "    gb_clf = GradientBoostingClassifier(n_estimators=10, learning_rate=learning_rate, random_state=10)\n",
    "    gb_clf.fit(X_train.iloc[:,:47], y_train)\n",
    "\n",
    "    print(\"Learning rate: \", learning_rate)\n",
    "    print(\"Accuracy score (training): \", (gb_clf.score(X_train.iloc[:,:47], y_train)))\n",
    "    print(\"Accuracy score (test): \",(gb_clf.score(X_test.iloc[:,:47], y_test)))"
   ]
  },
  {
   "cell_type": "code",
   "execution_count": 20,
   "metadata": {},
   "outputs": [
    {
     "name": "stdout",
     "output_type": "stream",
     "text": [
      "Accuracy score (training):  0.9192465285681767\n",
      "Accuracy score (test):  0.9203290896379038\n"
     ]
    }
   ],
   "source": [
    "model_gb = GradientBoostingClassifier(n_estimators=500, learning_rate=0.1, random_state=500)\n",
    "model_gb.fit(X_train.iloc[:,:47], y_train)\n",
    "train_score = model_gb.score(X_train.iloc[:,:47], y_train)\n",
    "test_score = model_gb.score(X_test.iloc[:,:47], y_test)\n",
    "print(\"Accuracy score (training): \", train_score)\n",
    "print(\"Accuracy score (test): \", test_score)"
   ]
  },
  {
   "cell_type": "code",
   "execution_count": 21,
   "metadata": {},
   "outputs": [
    {
     "data": {
      "text/plain": [
       "Text(0.5, 1.0, 'GBT ROC Curve')"
      ]
     },
     "execution_count": 21,
     "metadata": {},
     "output_type": "execute_result"
    },
    {
     "data": {
      "image/png": "[encoded data removed]",
      "text/plain": [
       "<Figure size 432x288 with 1 Axes>"
      ]
     },
     "metadata": {
      "needs_background": "light"
     },
     "output_type": "display_data"
    }
   ],
   "source": [
    "metrics.plot_roc_curve(model_gb,X_test.iloc[:,:47],y_test)\n",
    "plt.title(\"GBT ROC Curve\")"
   ]
  },
  {
   "cell_type": "code",
   "execution_count": 22,
   "metadata": {},
   "outputs": [],
   "source": [
    "#### Now, Training with Logistic Regression ###"
   ]
  },
  {
   "cell_type": "code",
   "execution_count": 23,
   "metadata": {},
   "outputs": [],
   "source": [
    "X_train, X_test, y_train, y_test = train_test_split(X, Y, test_size=0.2, random_state=500)"
   ]
  },
  {
   "cell_type": "code",
   "execution_count": 24,
   "metadata": {},
   "outputs": [
    {
     "name": "stdout",
     "output_type": "stream",
     "text": [
      "Number of features:  10\n",
      "Accuracy score (training):  0.9189782446099314\n",
      "Accuracy score (test):  0.9204429052241354\n",
      "Number of features:  15\n",
      "Accuracy score (training):  0.9189701147930148\n",
      "Accuracy score (test):  0.9204266458546737\n",
      "Number of features:  20\n",
      "Accuracy score (training):  0.9189660498845565\n",
      "Accuracy score (test):  0.9204266458546737\n",
      "Number of features:  25\n",
      "Accuracy score (training):  0.9189782446099314\n",
      "Accuracy score (test):  0.9204429052241354\n",
      "Number of features:  30\n",
      "Accuracy score (training):  0.9189660498845565\n",
      "Accuracy score (test):  0.9204429052241354\n",
      "Number of features:  35\n",
      "Accuracy score (training):  0.9189701147930148\n",
      "Accuracy score (test):  0.9204429052241354\n",
      "Number of features:  40\n",
      "Accuracy score (training):  0.9189701147930148\n",
      "Accuracy score (test):  0.9204429052241354\n",
      "Number of features:  47\n",
      "Accuracy score (training):  0.9189741797014731\n",
      "Accuracy score (test):  0.9204429052241354\n"
     ]
    }
   ],
   "source": [
    "# Training with Log Reg\n",
    "\n",
    "ind = [10, 15, 20, 25, 30, 35, 40, 47]\n",
    "\n",
    "for i in ind:\n",
    "    model_log = LogisticRegression(random_state=10,max_iter = 500,tol=1e-6,multi_class='ovr',solver='liblinear')\n",
    "    model_log.fit(X_train.iloc[:,:i], y_train)\n",
    "    train_score = model_log.score(X_train.iloc[:,:i], y_train)\n",
    "    test_score = model_log.score(X_test.iloc[:,:i], y_test)\n",
    "\n",
    "    print(\"Number of features: \", i)\n",
    "    print(\"Accuracy score (training): \", train_score)\n",
    "    print(\"Accuracy score (test): \", test_score)"
   ]
  },
  {
   "cell_type": "code",
   "execution_count": 25,
   "metadata": {},
   "outputs": [
    {
     "name": "stdout",
     "output_type": "stream",
     "text": [
      "Accuracy score (training):  0.9189741797014731\n",
      "Accuracy score (test):  0.9204429052241354\n"
     ]
    }
   ],
   "source": [
    "model_log = LogisticRegression(random_state=500,max_iter = 500,tol=1e-6,multi_class='ovr',solver='liblinear')\n",
    "model_log.fit(X_train, y_train)\n",
    "train_score = model_log.score(X_train, y_train)\n",
    "test_score = model_log.score(X_test, y_test)\n",
    "print(\"Accuracy score (training): \", train_score)\n",
    "print(\"Accuracy score (test): \", test_score)"
   ]
  },
  {
   "cell_type": "code",
   "execution_count": 26,
   "metadata": {},
   "outputs": [
    {
     "data": {
      "text/plain": [
       "Text(0.5, 1.0, 'Logistic Regression ROC Curve')"
      ]
     },
     "execution_count": 26,
     "metadata": {},
     "output_type": "execute_result"
    },
    {
     "data": {
      "image/png": "[encoded data removed]",
      "text/plain": [
       "<Figure size 432x288 with 1 Axes>"
      ]
     },
     "metadata": {
      "needs_background": "light"
     },
     "output_type": "display_data"
    }
   ],
   "source": [
    "metrics.plot_roc_curve(model_log,X_test,y_test)\n",
    "plt.title(\"Logistic Regression ROC Curve\")"
   ]
  },
  {
   "cell_type": "code",
   "execution_count": null,
   "metadata": {},
   "outputs": [],
   "source": []
  }
 ],
 "metadata": {
  "kernelspec": {
   "display_name": "Python 3",
   "language": "python",
   "name": "python3"
  },
  "language_info": {
   "codemirror_mode": {
    "name": "ipython",
    "version": 3
   },
   "file_extension": ".py",
   "mimetype": "text/x-python",
   "name": "python",
   "nbconvert_exporter": "python",
   "pygments_lexer": "ipython3",
   "version": "3.7.6"
  }
 },
 "nbformat": 4,
 "nbformat_minor": 4
}
