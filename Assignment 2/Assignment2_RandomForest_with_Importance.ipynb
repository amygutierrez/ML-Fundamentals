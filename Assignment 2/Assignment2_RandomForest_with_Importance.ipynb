{
 "cells": [
  {
   "cell_type": "code",
   "execution_count": null,
   "metadata": {},
   "outputs": [],
   "source": [
    "### Random Forest with Importance Features ###"
   ]
  },
  {
   "cell_type": "code",
   "execution_count": 1,
   "metadata": {},
   "outputs": [
    {
     "name": "stderr",
     "output_type": "stream",
     "text": [
      "C:\\ProgramData\\Anaconda3\\lib\\site-packages\\sklearn\\externals\\six.py:31: FutureWarning: The module is deprecated in version 0.21 and will be removed in version 0.23 since we've dropped support for Python 2.7. Please rely on the official version of six (https://pypi.org/project/six/).\n",
      "  \"(https://pypi.org/project/six/).\", FutureWarning)\n"
     ]
    }
   ],
   "source": [
    "import pandas as pd\n",
    "from sklearn.ensemble import RandomForestClassifier \n",
    "from sklearn.model_selection import train_test_split \n",
    "from sklearn import metrics \n",
    "from sklearn import preprocessing\n",
    "import numpy as np\n",
    "\n",
    "from sklearn.tree import export_graphviz\n",
    "from sklearn.externals.six import StringIO  \n",
    "from IPython.display import Image  \n",
    "import pydotplus"
   ]
  },
  {
   "cell_type": "code",
   "execution_count": 2,
   "metadata": {},
   "outputs": [
    {
     "data": {
      "text/html": [
       "<div>\n",
       "<style scoped>\n",
       "    .dataframe tbody tr th:only-of-type {\n",
       "        vertical-align: middle;\n",
       "    }\n",
       "\n",
       "    .dataframe tbody tr th {\n",
       "        vertical-align: top;\n",
       "    }\n",
       "\n",
       "    .dataframe thead th {\n",
       "        text-align: right;\n",
       "    }\n",
       "</style>\n",
       "<table border=\"1\" class=\"dataframe\">\n",
       "  <thead>\n",
       "    <tr style=\"text-align: right;\">\n",
       "      <th></th>\n",
       "      <th>TARGET</th>\n",
       "      <th>AMT_CREDIT</th>\n",
       "      <th>DAYS_LAST_PHONE_CHANGE</th>\n",
       "      <th>DAYS_EMPLOYED</th>\n",
       "      <th>AMT_ANNUITY</th>\n",
       "      <th>AMT_INCOME_TOTAL</th>\n",
       "      <th>DAYS_REGISTRATION</th>\n",
       "      <th>DAYS_ID_PUBLISH</th>\n",
       "      <th>DAYS_BIRTH</th>\n",
       "      <th>EXT_SOURCE_3</th>\n",
       "      <th>EXT_SOURCE_2</th>\n",
       "    </tr>\n",
       "  </thead>\n",
       "  <tbody>\n",
       "    <tr>\n",
       "      <th>0</th>\n",
       "      <td>1</td>\n",
       "      <td>406597.5</td>\n",
       "      <td>-1134.0</td>\n",
       "      <td>-637</td>\n",
       "      <td>24700.5</td>\n",
       "      <td>202500.0</td>\n",
       "      <td>-3648.0</td>\n",
       "      <td>-2120</td>\n",
       "      <td>-9461</td>\n",
       "      <td>0.139376</td>\n",
       "      <td>0.262949</td>\n",
       "    </tr>\n",
       "    <tr>\n",
       "      <th>1</th>\n",
       "      <td>0</td>\n",
       "      <td>1293502.5</td>\n",
       "      <td>-828.0</td>\n",
       "      <td>-1188</td>\n",
       "      <td>35698.5</td>\n",
       "      <td>270000.0</td>\n",
       "      <td>-1186.0</td>\n",
       "      <td>-291</td>\n",
       "      <td>-16765</td>\n",
       "      <td>NaN</td>\n",
       "      <td>0.622246</td>\n",
       "    </tr>\n",
       "    <tr>\n",
       "      <th>2</th>\n",
       "      <td>0</td>\n",
       "      <td>135000.0</td>\n",
       "      <td>-815.0</td>\n",
       "      <td>-225</td>\n",
       "      <td>6750.0</td>\n",
       "      <td>67500.0</td>\n",
       "      <td>-4260.0</td>\n",
       "      <td>-2531</td>\n",
       "      <td>-19046</td>\n",
       "      <td>0.729567</td>\n",
       "      <td>0.555912</td>\n",
       "    </tr>\n",
       "    <tr>\n",
       "      <th>3</th>\n",
       "      <td>0</td>\n",
       "      <td>312682.5</td>\n",
       "      <td>-617.0</td>\n",
       "      <td>-3039</td>\n",
       "      <td>29686.5</td>\n",
       "      <td>135000.0</td>\n",
       "      <td>-9833.0</td>\n",
       "      <td>-2437</td>\n",
       "      <td>-19005</td>\n",
       "      <td>NaN</td>\n",
       "      <td>0.650442</td>\n",
       "    </tr>\n",
       "    <tr>\n",
       "      <th>4</th>\n",
       "      <td>0</td>\n",
       "      <td>513000.0</td>\n",
       "      <td>-1106.0</td>\n",
       "      <td>-3038</td>\n",
       "      <td>21865.5</td>\n",
       "      <td>121500.0</td>\n",
       "      <td>-4311.0</td>\n",
       "      <td>-3458</td>\n",
       "      <td>-19932</td>\n",
       "      <td>NaN</td>\n",
       "      <td>0.322738</td>\n",
       "    </tr>\n",
       "  </tbody>\n",
       "</table>\n",
       "</div>"
      ],
      "text/plain": [
       "   TARGET  AMT_CREDIT  DAYS_LAST_PHONE_CHANGE  DAYS_EMPLOYED  AMT_ANNUITY  \\\n",
       "0       1    406597.5                 -1134.0           -637      24700.5   \n",
       "1       0   1293502.5                  -828.0          -1188      35698.5   \n",
       "2       0    135000.0                  -815.0           -225       6750.0   \n",
       "3       0    312682.5                  -617.0          -3039      29686.5   \n",
       "4       0    513000.0                 -1106.0          -3038      21865.5   \n",
       "\n",
       "   AMT_INCOME_TOTAL  DAYS_REGISTRATION  DAYS_ID_PUBLISH  DAYS_BIRTH  \\\n",
       "0          202500.0            -3648.0            -2120       -9461   \n",
       "1          270000.0            -1186.0             -291      -16765   \n",
       "2           67500.0            -4260.0            -2531      -19046   \n",
       "3          135000.0            -9833.0            -2437      -19005   \n",
       "4          121500.0            -4311.0            -3458      -19932   \n",
       "\n",
       "   EXT_SOURCE_3  EXT_SOURCE_2  \n",
       "0      0.139376      0.262949  \n",
       "1           NaN      0.622246  \n",
       "2      0.729567      0.555912  \n",
       "3           NaN      0.650442  \n",
       "4           NaN      0.322738  "
      ]
     },
     "execution_count": 2,
     "metadata": {},
     "output_type": "execute_result"
    }
   ],
   "source": [
    "data = pd.read_csv(r'application_train.csv')\n",
    "df = pd.DataFrame(data, columns = ['TARGET', 'AMT_CREDIT', 'DAYS_LAST_PHONE_CHANGE', 'DAYS_EMPLOYED', 'AMT_ANNUITY',\n",
    "                                   'AMT_INCOME_TOTAL','DAYS_REGISTRATION', 'DAYS_ID_PUBLISH','DAYS_BIRTH', 'EXT_SOURCE_3',\n",
    "                                  'EXT_SOURCE_2'])\n",
    "df.head()"
   ]
  },
  {
   "cell_type": "code",
   "execution_count": 3,
   "metadata": {},
   "outputs": [],
   "source": [
    "dependent = ['AMT_CREDIT', 'DAYS_LAST_PHONE_CHANGE', 'DAYS_EMPLOYED', 'AMT_ANNUITY',\n",
    "             'AMT_INCOME_TOTAL','DAYS_REGISTRATION', 'DAYS_ID_PUBLISH','DAYS_BIRTH', 'EXT_SOURCE_3',\n",
    "             'EXT_SOURCE_2']\n",
    "\n",
    "X = df[dependent]\n",
    "Y = df.TARGET"
   ]
  },
  {
   "cell_type": "code",
   "execution_count": 4,
   "metadata": {},
   "outputs": [
    {
     "name": "stderr",
     "output_type": "stream",
     "text": [
      "C:\\ProgramData\\Anaconda3\\lib\\site-packages\\pandas\\core\\generic.py:6245: SettingWithCopyWarning: \n",
      "A value is trying to be set on a copy of a slice from a DataFrame\n",
      "\n",
      "See the caveats in the documentation: https://pandas.pydata.org/pandas-docs/stable/user_guide/indexing.html#returning-a-view-versus-a-copy\n",
      "  self._update_inplace(new_data)\n"
     ]
    },
    {
     "name": "stdout",
     "output_type": "stream",
     "text": [
      "Accuracy for Random Forest: 0.9192555336353979\n"
     ]
    }
   ],
   "source": [
    "# Splitting dataset in training and test set\n",
    "\n",
    "X_train, X_test, Y_train, Y_test = train_test_split(X, Y, test_size=0.3, random_state=1)\n",
    "\n",
    "X_test.fillna(X_train.mean(), inplace=True)\n",
    "X_test = X_test.fillna(X_train.mean())\n",
    "\n",
    "X_train.fillna(X_train.mean(), inplace=True)\n",
    "X_train = X_train.fillna(X_train.mean())\n",
    "\n",
    "\n",
    "\n",
    "#Create model\n",
    "\n",
    "clf = RandomForestClassifier()\n",
    "clf = clf.fit(X_train,Y_train)\n",
    "Y_pred = clf.predict(X_test)\n",
    "\n",
    "print(\"Accuracy for Random Forest:\",metrics.accuracy_score(Y_test, Y_pred))"
   ]
  },
  {
   "cell_type": "code",
   "execution_count": null,
   "metadata": {},
   "outputs": [],
   "source": []
  }
 ],
 "metadata": {
  "kernelspec": {
   "display_name": "Python 3",
   "language": "python",
   "name": "python3"
  },
  "language_info": {
   "codemirror_mode": {
    "name": "ipython",
    "version": 3
   },
   "file_extension": ".py",
   "mimetype": "text/x-python",
   "name": "python",
   "nbconvert_exporter": "python",
   "pygments_lexer": "ipython3",
   "version": "3.7.6"
  }
 },
 "nbformat": 4,
 "nbformat_minor": 4
}
